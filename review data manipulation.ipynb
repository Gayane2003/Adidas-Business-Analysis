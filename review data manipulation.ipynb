{
 "cells": [
  {
   "cell_type": "markdown",
   "id": "86ff0e84-06cb-4557-a72e-a8aa2a79bd01",
   "metadata": {},
   "source": [
    "# Review generation"
   ]
  },
  {
   "cell_type": "code",
   "execution_count": 13,
   "id": "96e9518c-774b-4227-8309-3eca2285cbe7",
   "metadata": {},
   "outputs": [],
   "source": [
    "import pandas as pd\n",
    "import numpy as np\n",
    "from docx import Document"
   ]
  },
  {
   "cell_type": "code",
   "execution_count": 14,
   "id": "35affc96-ce42-4eee-abc4-b50e867d2797",
   "metadata": {},
   "outputs": [],
   "source": [
    "def read_word_file(file_path):\n",
    "    doc = Document(file_path)\n",
    "    content = []\n",
    "    for paragraph in doc.paragraphs:\n",
    "        content.append(paragraph.text)\n",
    "    return content\n",
    "    \n",
    "paths = ['score 1 comments.docx', 'score 2 comments.docx', 'score 3 comments.docx', 'score 4 comments.docx', 'score 5 comments.docx']\n",
    "rev_sc_1 = read_word_file(paths[0])\n",
    "rev_sc_2 = read_word_file(paths[1])\n",
    "rev_sc_3 = read_word_file(paths[2])\n",
    "rev_sc_4 = read_word_file(paths[3])\n",
    "rev_sc_5 = read_word_file(paths[4])\n",
    "\n",
    "df = pd.read_excel('project data.xlsx', sheet_name='Sheet2')  "
   ]
  },
  {
   "cell_type": "code",
   "execution_count": 15,
   "id": "31a80084-2684-4ede-a5d7-f48b1a714be0",
   "metadata": {},
   "outputs": [],
   "source": [
    "# Assuming rev_sc_1, rev_sc_2, rev_sc_3, rev_sc_4, rev_sc_5 are lists of comments\n",
    "# Initialize a dictionary to keep track of the next available comment for each score\n",
    "next_comment_index = {1: 0, 2: 0, 3: 0, 4: 0, 5: 0}\n",
    "\n",
    "def assign_comment(score):\n",
    "    global next_comment_index\n",
    "    comment_list = globals()[f\"rev_sc_{score}\"]\n",
    "    if next_comment_index[score] < len(comment_list):\n",
    "        comment = comment_list[next_comment_index[score]]\n",
    "        next_comment_index[score] += 1\n",
    "        return comment\n",
    "    else:\n",
    "        return None\n",
    "\n",
    "df['Reviews'] = df['Score'].apply(assign_comment)\n",
    "\n",
    "df.to_excel('review data.xlsx', index=False)"
   ]
  }
 ],
 "metadata": {
  "kernelspec": {
   "display_name": "Python 3 (ipykernel)",
   "language": "python",
   "name": "python3"
  },
  "language_info": {
   "codemirror_mode": {
    "name": "ipython",
    "version": 3
   },
   "file_extension": ".py",
   "mimetype": "text/x-python",
   "name": "python",
   "nbconvert_exporter": "python",
   "pygments_lexer": "ipython3",
   "version": "3.8.2"
  }
 },
 "nbformat": 4,
 "nbformat_minor": 5
}
